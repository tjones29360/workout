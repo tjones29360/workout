{
 "metadata": {
  "language_info": {
   "codemirror_mode": {
    "name": "ipython",
    "version": 3
   },
   "file_extension": ".py",
   "mimetype": "text/x-python",
   "name": "python",
   "nbconvert_exporter": "python",
   "pygments_lexer": "ipython3",
   "version": 3
  },
  "orig_nbformat": 2
 },
 "nbformat": 4,
 "nbformat_minor": 2,
 "cells": [
  {
   "cell_type": "code",
   "execution_count": null,
   "metadata": {},
   "outputs": [],
   "source": [
    "import csv\n",
    "import time"
   ]
  },
  {
   "cell_type": "code",
   "execution_count": null,
   "metadata": {},
   "outputs": [],
   "source": [
    "def get_date():\n",
    "    '''verify date with user'''\n",
    "    date = time.ctime().split()\n",
    "    date = f'{date[1]} {date[2]} {date[4]}'\n",
    "    return date"
   ]
  },
  {
   "cell_type": "code",
   "execution_count": null,
   "metadata": {},
   "outputs": [],
   "source": [
    "j_jacks = input(\"How many Jumping Jacks did you do?:\\n\")\n",
    "curls = input(\"How many Bicep Curls did you do?:\\n\")\n",
    "r_curls = input(\"How many Reverse Curls did you do?:\\n\")\n",
    "h_curls = input(\"How many Hammer Curls did you do?:\\n\")\n",
    "pushups = input(\"How many Pushups did you do?:\\n\")\n",
    "ovr_curls = input(\"How many Overhead Curls did you do?:\\n\")\n",
    "windmills = input(\"How many Windmills did you do?:\\n\")\n",
    "w_pushups = input(\"How many Wall Pushups did you do?:\\n\")\n",
    "squats = input(\"How many Squats did you do:?\\n\")"
   ]
  },
  {
   "cell_type": "code",
   "execution_count": null,
   "metadata": {},
   "outputs": [],
   "source": [
    "with open('workout.csv', 'a') as csv_file:\n",
    "    fieldnames = ['Date', 'JJacks', 'Curls', 'RCurls', 'HCurls', 'Pups', 'OVCurls', 'Windmills', 'WPups', 'Squats']\n",
    "    # fieldnames = ['Date', 'JJacks', 'Curls']\n",
    "    writer = csv.DictWriter(csv_file, fieldnames=fieldnames)\n",
    "\n",
    "    writer.writerow({'Date': , 'JJacks': , 'Curls': ,'RCurls': ,'HCurls': ,'Pups': ,'OVCurls': ,'Windmills': ,'WPups': ,'Squats': })"
   ]
  },
  {
   "cell_type": "code",
   "execution_count": null,
   "metadata": {},
   "outputs": [],
   "source": []
  }
 ]
}